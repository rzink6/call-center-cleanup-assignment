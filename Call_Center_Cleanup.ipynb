{
 "cells": [
  {
   "cell_type": "markdown",
   "id": "331a1c4f",
   "metadata": {},
   "source": [
    "# Call Center Cleanup\n",
    "\n",
    "For this assignment, we will be working with call center data. You can start working on the assignment after the first lesson on Exploratory Data Analysis. Make sure to read the whole assignment before starting anything! As you code along in the Jupyter notebook, you are asked to make note of the results of your analysis. Do so by clicking on the results box and adding your notes beside each question.\n",
    "\n",
    "## Business Issue and Understanding\n",
    "\n",
    "You are working for a company that has two call centers: the North Call Center and the South Call Center. The company is looking to possibly hire five additional reps to enhance customer experience. Your task is to explore how efficient the current reps are in each branch to determine which branch would benefit from additional assistance.\n",
    "\n",
    "### How the Call Center Works\n",
    "\n",
    "Call center representatives are assigned queues. When calls are assigned to a queue, the call is assigned to the next person in line in the queue. After a call is assigned to a representative, the amount of time between assignment and the call starting is divided into busy minutes and not ready minutes. If the call is incoming and a customer is waiting on the phone for a rep, the time is split into three categories: busy minutes, not ready minutes, and incoming call wait time. Once the rep has the customer on the phone, there might be during call wait time, where the call is put on hold while the rep gets an answer for the customer.\n",
    "\n",
    "### Notes about the Dataset\n",
    "\n",
    "If you haven't worked in a call center before, these notes might help you throughout your analysis.\n",
    "\n",
    "* The call purpose is tagged for each call.\n",
    "* The time of the call is tagged in 1 hour blocks starting at 9:00 AM and ending at 5:00 PM.\n",
    "* Calls are tagged as incoming or outgoing.\n",
    "* Reps are assigned to queues. When the reps are working, they take calls in the order of their queue.\n",
    "* A call that is dropped due to technical error or missed by the center because they have reached maximum capacity is a lost call.\n",
    "* An abandoned call is when the customer hangs up because they have been waiting for too long.\n",
    "* Busy Minutes: the amount of time after a call comes in or needs to go out where the assigned rep is not available because they are busy with other customers.\n",
    "* Not Ready Minutes: the amount of time after a call comes in or needs to go out where the assigned rep is not available because they are not ready (for example, getting water).\n",
    "* Incoming Wait Time - amount of time after assigned rep is available to take the call customer waits for representative to pick up a call. This is tracked in seconds.\n",
    "* During Call Wait Time - amount of time during call that customer has to wait for representative\n",
    "\n",
    "## Getting Started\n",
    "\n",
    "You have two CSVs at your disposal, `NorthCallCenter.csv` and `SouthCallCenter.csv`. Import the appropriate libraries and create two dataframes, one called `north_df` and one called `south_df`."
   ]
  },
  {
   "cell_type": "code",
   "execution_count": 27,
   "id": "f362436b",
   "metadata": {},
   "outputs": [],
   "source": [
    "# Import the appropriate libraries with aliases\n",
    "import pandas as pd\n",
    "import matplotlib.pyplot as plt\n",
    "\n",
    "# Create two new dataframes\n",
    "north_df = pd.read_csv(\"NorthCallCenter.csv\", index_col=[0])\n",
    "south_df = pd.read_csv(\"SouthCallCenter.csv\", index_col=[0])"
   ]
  },
  {
   "cell_type": "markdown",
   "id": "37f77cd4",
   "metadata": {},
   "source": [
    "<span style=\"background-color:orangered; color:orangered;\">- - - - - - - - - - - - - - - - - - - - - - - - - - - - - - - - - - - - - - - - - - - - - - - - - - - - - - - - - - - - - - - - - - - - - - - - - - - - - - - - - - - - - - - - -</span>"
   ]
  },
  {
   "cell_type": "markdown",
   "id": "b4d3484b",
   "metadata": {},
   "source": [
    "## Exploratory Data Analysis\n",
    "\n",
    "Time to do some EDA! In the process of learning more about the two datasets, answer the following questions. In the code blocks below enter the code used to solve the question.  At the end of the section record your answers by double clicking where asked."
   ]
  },
  {
   "cell_type": "markdown",
   "id": "76898991",
   "metadata": {},
   "source": [
    "#### EDA Question 1A:  How many reps are in the North branch?  "
   ]
  },
  {
   "cell_type": "code",
   "execution_count": 2,
   "id": "ce3eb5e4",
   "metadata": {},
   "outputs": [
    {
     "data": {
      "text/plain": [
       "9"
      ]
     },
     "execution_count": 2,
     "metadata": {},
     "output_type": "execute_result"
    }
   ],
   "source": [
    "# Option using value_counts()\n",
    "\n",
    "#Code Used:\n",
    "north_reps = north_df[\"Rep ID\"].value_counts().count()\n",
    "north_reps"
   ]
  },
  {
   "cell_type": "markdown",
   "id": "2a9b34d8",
   "metadata": {},
   "source": [
    "#### EDA Question 1B:  How many reps are in the South branch?  "
   ]
  },
  {
   "cell_type": "code",
   "execution_count": 3,
   "id": "3c715bbf",
   "metadata": {},
   "outputs": [
    {
     "data": {
      "text/plain": [
       "11"
      ]
     },
     "execution_count": 3,
     "metadata": {},
     "output_type": "execute_result"
    }
   ],
   "source": [
    " # Option using nunique()\n",
    "\n",
    "#Code Used:\n",
    "south_number_reps = south_df[\"Rep ID\"].nunique() \n",
    "south_number_reps"
   ]
  },
  {
   "cell_type": "markdown",
   "id": "a872f045",
   "metadata": {},
   "source": [
    "#### EDA Question 2A:  What is the average busy minutes, not ready minutes, incoming wait time, and during call wait time for the North branch? "
   ]
  },
  {
   "cell_type": "code",
   "execution_count": 4,
   "id": "3759305f",
   "metadata": {},
   "outputs": [
    {
     "data": {
      "text/plain": [
       "Busy Minutes             9.987755\n",
       "Not Ready Minutes        1.914286\n",
       "Incoming Wait Time       3.048780\n",
       "During Call Wait Time    2.967347\n",
       "dtype: float64"
      ]
     },
     "execution_count": 4,
     "metadata": {},
     "output_type": "execute_result"
    }
   ],
   "source": [
    " # Could also use .describe\n",
    "\n",
    "#Code Used:\n",
    "north_df[[\"Busy Minutes\",\"Not Ready Minutes\", \"Incoming Wait Time\", \"During Call Wait Time\"]].mean()"
   ]
  },
  {
   "cell_type": "markdown",
   "id": "3851cf3e",
   "metadata": {},
   "source": [
    "#### EDA Question 2B:  What is the average busy minutes, not ready minutes, incoming wait time, and during call wait time for the South branch? "
   ]
  },
  {
   "cell_type": "code",
   "execution_count": 5,
   "id": "a77ec152",
   "metadata": {},
   "outputs": [
    {
     "data": {
      "text/plain": [
       "Busy Minutes             10.054140\n",
       "Not Ready Minutes         1.910828\n",
       "Incoming Wait Time        3.000000\n",
       "During Call Wait Time     3.076433\n",
       "dtype: float64"
      ]
     },
     "execution_count": 5,
     "metadata": {},
     "output_type": "execute_result"
    }
   ],
   "source": [
    " #Code Used:\n",
    "south_df[[\"Busy Minutes\",\"Not Ready Minutes\", \"Incoming Wait Time\", \"During Call Wait Time\"]].mean()"
   ]
  },
  {
   "cell_type": "markdown",
   "id": "75915553",
   "metadata": {},
   "source": [
    "#### EDA Question 3:  What is the number of calls taken for each time block(Both North and South combined)?"
   ]
  },
  {
   "cell_type": "code",
   "execution_count": 6,
   "id": "49566936",
   "metadata": {},
   "outputs": [
    {
     "name": "stdout",
     "output_type": "stream",
     "text": [
      "10:00 AM     99\n",
      "11:00 AM     56\n",
      "12:00 PM    120\n",
      "1:00 PM      40\n",
      "2:00 PM      65\n",
      "3:00 PM      73\n",
      "4:00 PM      53\n",
      "5:00 PM      43\n",
      "9:00 AM      10\n",
      "Name: Time Block, dtype: int64\n"
     ]
    }
   ],
   "source": [
    " # Code Used:\n",
    "# Just North:\n",
    "north_calls_time_block = north_df[\"Time Block\"].value_counts()\n",
    "\n",
    "# Just South:\n",
    "south_calls_time_block = south_df[\"Time Block\"].value_counts()\n",
    "\n",
    "# Combined Total Calls:\n",
    "all_calls_per_time_block = north_calls_time_block + south_calls_time_block\n",
    "print(all_calls_per_time_block)"
   ]
  },
  {
   "cell_type": "markdown",
   "id": "40b1fd3f",
   "metadata": {},
   "source": [
    "Record your answers for the EDA section by double clicking here:\n",
    "\n",
    "1a) Reps in the North Branch = 91b) Reps in the South Branch = 112a) North Branch, (round to the nearest hundredth):\n",
    "\n",
    "Busy Minutes = 9.99Not Ready Minutes = 1.91Incoming Wait Time = 3.05During Call Wait Time = 2.97\n",
    "\n",
    "2b) South Branch, (round to the nearest hundredth):\n",
    "\n",
    "Busy Minutes = 10.05Not Ready Minutes = 1.91Incoming Wait Time = 3.00During Call Wait Time = 3.08\n",
    "\n",
    "\n",
    "Total Calls taken for all branches per time block:\n",
    "\n",
    "9:00AM   = 1010:00AM  = 9911:00AM  = 5612:00PM  = 1201:00PM   = 402:00PM   = 653:00PM   = 734:00PM   = 535:00PM   = 43##### Record your answers for the EDA section by double clicking here:\n",
    "- 1a) Reps in the North Branch = 9\n",
    "- 1b) Reps in the South Branch = 11\n",
    "\n",
    "\n",
    "- 2a) North Branch, (round to the nearest hundredth):\n",
    "> - Busy Minutes = 9.99\n",
    "> - Not Ready Minutes =1.91 \n",
    "> - Incoming Wait Time = 3.05\n",
    "> - During Call Wait Time = 2.97\n",
    "- 2b) South Branch, (round to the nearest hundredth):\n",
    "> - Busy Minutes = 10.05\n",
    "> - Not Ready Minutes = 1.91\n",
    "> - Incoming Wait Time = 3.00\n",
    "> - During Call Wait Time = 3.08\n",
    "- 3) Total Calls taken for all branches per time block:\n",
    "> - 9:00AM   = 10\n",
    "> - 10:00AM  = 99\n",
    "> - 11:00AM  = 56\n",
    "> - 12:00PM  = 120\n",
    "> - 1:00PM   = 40\n",
    "> - 2:00PM   = 65\n",
    "> - 3:00PM   = 73\n",
    "> - 4:00PM   = 53\n",
    "> - 5:00PM   = 43\n",
    "\n"
   ]
  },
  {
   "cell_type": "markdown",
   "id": "446048d3",
   "metadata": {},
   "source": [
    "<span style=\"background-color:orangered; color:orangered;\">- - - - - - - - - - - - - - - - - - - - - - - - - - - - - - - - - - - - - - - - - - - - - - - - - - - - - - - - - - - - - - - - - - - - - - - - - - - - - - - - - - - - - - - - -</span>"
   ]
  },
  {
   "cell_type": "markdown",
   "id": "366bfb19",
   "metadata": {},
   "source": [
    "## Cleaning Your Data \n",
    "Now you need to clean up the datasets. When cleaning the datasets, you may find that there isn't dirty data to clean. That is okay! Some questions you need to answer about the data sets.\n",
    "* Add additional code blocks as needed to show how you came to your conclusions. Add comments in your code blocks to help others understand your thinking. "
   ]
  },
  {
   "cell_type": "markdown",
   "id": "c3564d69",
   "metadata": {},
   "source": [
    "#### Cleaning Question 1:  Is there any missing data and if yes explain what you would do with the missing data and why?\n",
    "##### Record your answer by double clicking here:\n",
    "> Your Answer: Student answer should be something along the lines of below. Check code used to see that it supports their answer.\n",
    "Incoming wait time has a combined total of 351 missing values. Missing values are NaN and seem to correspont to Outgoing calls. Leaving as is because I do not want to get rid of the outgoing data."
   ]
  },
  {
   "cell_type": "code",
   "execution_count": 7,
   "id": "b77fb574",
   "metadata": {},
   "outputs": [
    {
     "data": {
      "text/plain": [
       "Branch                     0\n",
       "Call Purpose               0\n",
       "Time Block                 0\n",
       "Incoming or Outgoing       0\n",
       "Queue                      0\n",
       "Rep ID                     0\n",
       "Sale                       0\n",
       "Lost Call                  0\n",
       "Abandoned                  0\n",
       "Busy Minutes               0\n",
       "Not Ready Minutes          0\n",
       "Incoming Wait Time       351\n",
       "During Call Wait Time      0\n",
       "Calls                      0\n",
       "dtype: int64"
      ]
     },
     "execution_count": 7,
     "metadata": {},
     "output_type": "execute_result"
    }
   ],
   "source": [
    " # Code Used\n",
    "# Add Additional Cells as needed.\n",
    "# Checking for null values\n",
    "# Several different ways to do this\n",
    "#north_df.info()\n",
    "#south_df.info()\n",
    "\n",
    "north_df.isna().sum() + south_df.isna().sum()"
   ]
  },
  {
   "cell_type": "code",
   "execution_count": 8,
   "id": "4e0fbad6",
   "metadata": {},
   "outputs": [
    {
     "name": "stdout",
     "output_type": "stream",
     "text": [
      "NaN    351\n",
      "Name: Incoming Wait Time, dtype: int64\n",
      "1.0    37\n",
      "2.0    44\n",
      "3.0    41\n",
      "4.0    50\n",
      "5.0    36\n",
      "Name: Incoming Wait Time, dtype: int64\n"
     ]
    }
   ],
   "source": [
    "# Question - Do all the null values correspond to outogoing calls?\n",
    "# https://pandas.pydata.org/docs/getting_started/intro_tutorials/03_subset_data.html\n",
    "\n",
    "outgoing_north = north_df[north_df[\"Incoming or Outgoing\"] == \"Outgoing\"]\n",
    "outgoing_south = south_df[south_df[\"Incoming or Outgoing\"] == \"Outgoing\"]\n",
    "\n",
    "outgoing_combined_nan = outgoing_north[\"Incoming Wait Time\"].value_counts(dropna=False) + outgoing_south[\"Incoming Wait Time\"].value_counts(dropna=False)\n",
    "\n",
    "# There are 0 NaN values for incoming \n",
    "incoming_north = north_df[north_df[\"Incoming or Outgoing\"] == \"Incoming\"]\n",
    "incoming_south = south_df[south_df[\"Incoming or Outgoing\"] == \"Incoming\"]\n",
    "\n",
    "incoming_combined_nan = incoming_north[\"Incoming Wait Time\"].value_counts(dropna=False) + incoming_south[\"Incoming Wait Time\"].value_counts(dropna=False)\n",
    "\n",
    "print(outgoing_combined_nan)\n",
    "print(incoming_combined_nan)"
   ]
  },
  {
   "cell_type": "markdown",
   "id": "dc47f020",
   "metadata": {},
   "source": [
    "#### Cleaning Question 2:  In the North data set, there are two separate \"YES\" values for a sale. Why and how did you rectify the issue?\n",
    "##### Record your answer by double clicking here:\n",
    "> Your Answer: Student answer should be something along the lines of below. Using either .strip or .replace as possible solutions. Check code used to see that it supports their answer.\n",
    "I took a look at the north dataset using .nunique and then value_counts().  There seems to be two instances of YES.  I used .strip() to remove any unseen white space and ran value_counts again.  Now I get the expected count of 2."
   ]
  },
  {
   "cell_type": "code",
   "execution_count": 9,
   "id": "79793ea5-4754-4330-a097-3889f9f0d9bf",
   "metadata": {},
   "outputs": [
    {
     "data": {
      "text/plain": [
       "Branch                   1\n",
       "Call Purpose             3\n",
       "Time Block               9\n",
       "Incoming or Outgoing     2\n",
       "Queue                    2\n",
       "Rep ID                   9\n",
       "Sale                     3\n",
       "Lost Call                2\n",
       "Abandoned                2\n",
       "Busy Minutes             5\n",
       "Not Ready Minutes        3\n",
       "Incoming Wait Time       5\n",
       "During Call Wait Time    3\n",
       "Calls                    1\n",
       "dtype: int64"
      ]
     },
     "execution_count": 9,
     "metadata": {},
     "output_type": "execute_result"
    }
   ],
   "source": [
    " #Code Used\n",
    "# Add Additional Cells as needed.\n",
    "north_df.nunique()"
   ]
  },
  {
   "cell_type": "code",
   "execution_count": 10,
   "id": "1290ce21-6dea-4f06-80df-b796910d19bc",
   "metadata": {},
   "outputs": [
    {
     "data": {
      "text/plain": [
       "NO      234\n",
       "YES      10\n",
       "YES       1\n",
       "Name: Sale, dtype: int64"
      ]
     },
     "execution_count": 10,
     "metadata": {},
     "output_type": "execute_result"
    }
   ],
   "source": [
    " north_df[\"Sale\"].value_counts()"
   ]
  },
  {
   "cell_type": "code",
   "execution_count": 11,
   "id": "b58250ac-afaf-4299-b5e6-2a6da398de05",
   "metadata": {},
   "outputs": [
    {
     "data": {
      "text/plain": [
       "NO     234\n",
       "YES     11\n",
       "Name: Sale, dtype: int64"
      ]
     },
     "execution_count": 11,
     "metadata": {},
     "output_type": "execute_result"
    }
   ],
   "source": [
    " # Using .replace there is an extra space after the \"YES\"\n",
    "#north_df[\"Sale\"] = north_df[\"Sale\"].str.replace(\"YES \", \"YES\")  \n",
    "#north_df[\"Sale\"].value_counts()\n",
    "\n",
    "# Stripping white space\n",
    "\n",
    "north_df[\"Sale\"] = north_df[\"Sale\"].str.strip()\n",
    "north_df[\"Sale\"].value_counts()"
   ]
  },
  {
   "cell_type": "markdown",
   "id": "715f375a",
   "metadata": {},
   "source": [
    "#### Cleaning Question 3:  Are there duplicates in the two data sets? If there are, how did you handle them?\n",
    "##### Record your answer by double clicking here:\n",
    "> Your Answer: If you used 'index_col=[0]' as a parameter when creating your dataframes.  North will appear to have 2 dupicate rows and south 3.  Upon closer inspection they don't appear to be dublicates and I would leave them.\n",
    "\n",
    "If the student created an “Unnamed: 0” column when creating their dataframes there are no duplicates."
   ]
  },
  {
   "cell_type": "code",
   "execution_count": 12,
   "id": "2323673a",
   "metadata": {},
   "outputs": [
    {
     "data": {
      "text/html": [
       "<div>\n",
       "<style scoped>\n",
       "    .dataframe tbody tr th:only-of-type {\n",
       "        vertical-align: middle;\n",
       "    }\n",
       "\n",
       "    .dataframe tbody tr th {\n",
       "        vertical-align: top;\n",
       "    }\n",
       "\n",
       "    .dataframe thead th {\n",
       "        text-align: right;\n",
       "    }\n",
       "</style>\n",
       "<table border=\"1\" class=\"dataframe\">\n",
       "  <thead>\n",
       "    <tr style=\"text-align: right;\">\n",
       "      <th></th>\n",
       "      <th>Branch</th>\n",
       "      <th>Call Purpose</th>\n",
       "      <th>Time Block</th>\n",
       "      <th>Incoming or Outgoing</th>\n",
       "      <th>Queue</th>\n",
       "      <th>Rep ID</th>\n",
       "      <th>Sale</th>\n",
       "      <th>Lost Call</th>\n",
       "      <th>Abandoned</th>\n",
       "      <th>Busy Minutes</th>\n",
       "      <th>Not Ready Minutes</th>\n",
       "      <th>Incoming Wait Time</th>\n",
       "      <th>During Call Wait Time</th>\n",
       "      <th>Calls</th>\n",
       "    </tr>\n",
       "  </thead>\n",
       "  <tbody>\n",
       "    <tr>\n",
       "      <th>58</th>\n",
       "      <td>South</td>\n",
       "      <td>Sales Support</td>\n",
       "      <td>12:00 PM</td>\n",
       "      <td>Incoming</td>\n",
       "      <td>D</td>\n",
       "      <td>Kate</td>\n",
       "      <td>NO</td>\n",
       "      <td>0</td>\n",
       "      <td>0</td>\n",
       "      <td>8</td>\n",
       "      <td>1</td>\n",
       "      <td>3.0</td>\n",
       "      <td>3</td>\n",
       "      <td>1</td>\n",
       "    </tr>\n",
       "    <tr>\n",
       "      <th>170</th>\n",
       "      <td>South</td>\n",
       "      <td>Sales Support</td>\n",
       "      <td>11:00 AM</td>\n",
       "      <td>Outgoing</td>\n",
       "      <td>D</td>\n",
       "      <td>Randy</td>\n",
       "      <td>NO</td>\n",
       "      <td>0</td>\n",
       "      <td>0</td>\n",
       "      <td>8</td>\n",
       "      <td>3</td>\n",
       "      <td>NaN</td>\n",
       "      <td>2</td>\n",
       "      <td>1</td>\n",
       "    </tr>\n",
       "    <tr>\n",
       "      <th>180</th>\n",
       "      <td>South</td>\n",
       "      <td>Sales Support</td>\n",
       "      <td>12:00 PM</td>\n",
       "      <td>Outgoing</td>\n",
       "      <td>C</td>\n",
       "      <td>Sandy</td>\n",
       "      <td>NO</td>\n",
       "      <td>0</td>\n",
       "      <td>0</td>\n",
       "      <td>8</td>\n",
       "      <td>1</td>\n",
       "      <td>NaN</td>\n",
       "      <td>4</td>\n",
       "      <td>1</td>\n",
       "    </tr>\n",
       "  </tbody>\n",
       "</table>\n",
       "</div>"
      ],
      "text/plain": [
       "    Branch   Call Purpose Time Block Incoming or Outgoing Queue Rep ID Sale  \\\n",
       "58   South  Sales Support   12:00 PM             Incoming     D   Kate   NO   \n",
       "170  South  Sales Support   11:00 AM             Outgoing     D  Randy   NO   \n",
       "180  South  Sales Support   12:00 PM             Outgoing     C  Sandy   NO   \n",
       "\n",
       "     Lost Call  Abandoned  Busy Minutes  Not Ready Minutes  \\\n",
       "58           0          0             8                  1   \n",
       "170          0          0             8                  3   \n",
       "180          0          0             8                  1   \n",
       "\n",
       "     Incoming Wait Time  During Call Wait Time  Calls  \n",
       "58                  3.0                      3      1  \n",
       "170                 NaN                      2      1  \n",
       "180                 NaN                      4      1  "
      ]
     },
     "execution_count": 12,
     "metadata": {},
     "output_type": "execute_result"
    }
   ],
   "source": [
    " #Code Used\n",
    "# Add Additional Cells as needed.\n",
    "\n",
    "#identify duplicate rows\n",
    "north_duplicates = north_df[north_df.duplicated()]\n",
    "south_duplicates = south_df[south_df.duplicated()]\n",
    "#view duplicate rows\n",
    "north_duplicates\n",
    "south_duplicates"
   ]
  },
  {
   "cell_type": "markdown",
   "id": "8ffaa865",
   "metadata": {},
   "source": [
    "#### Cleaning Question 4:  Is any of the data in the two data sets unnecessary? If yes, how did you handle it?\n",
    "##### Record your answer by double clicking here:\n",
    "> Your Answer: YES - \"Calls\" column only had 1 value, which is not informative. Could just use the \"Incoming or Outgoing\" to sort.  This column seems redundant. I deleted it in both datasets.\n",
    "\n",
    "Note: If students delete the calls column they will have to change some of the starter code in the Visualization section to accomodate their choice.\n",
    "\n",
    "Many students also droped “Unnamed: 0” column, Basically the index column has been read in as a column in itself rather than an index. The simplist way to solve this is to add a parameter to the intial import line: pd.read_csv('filename', index_col=[0]).  Or drop the column -> df = df.drop('column_name', axis=1)"
   ]
  },
  {
   "cell_type": "code",
   "execution_count": 13,
   "id": "78b45e70",
   "metadata": {},
   "outputs": [
    {
     "name": "stdout",
     "output_type": "stream",
     "text": [
      "1    314\n",
      "Name: Calls, dtype: int64\n",
      "1    245\n",
      "Name: Calls, dtype: int64\n"
     ]
    }
   ],
   "source": [
    " #Code Used\n",
    "# Add Additional Cells as needed.\n",
    "print(south_df[\"Calls\"].value_counts())\n",
    "print(north_df[\"Calls\"].value_counts())"
   ]
  },
  {
   "cell_type": "code",
   "execution_count": 28,
   "id": "e37bc6e9-b844-4eb6-b105-ea3fe134b1db",
   "metadata": {},
   "outputs": [
    {
     "name": "stdout",
     "output_type": "stream",
     "text": [
      "Index(['Branch', 'Call Purpose', 'Time Block', 'Incoming or Outgoing', 'Queue',\n",
      "       'Rep ID', 'Sale', 'Lost Call', 'Abandoned', 'Busy Minutes',\n",
      "       'Not Ready Minutes', 'Incoming Wait Time', 'During Call Wait Time'],\n",
      "      dtype='object')\n"
     ]
    }
   ],
   "source": [
    " # Code to drop \"Calls Column\" \n",
    "drop_north_df = north_df.drop(\"Calls\", axis=1)\n",
    "drop_south_df = south_df.drop(\"Calls\", axis=1)\n",
    "\n",
    "# check to see column was droped.\n",
    "print(drop_north_df.columns)"
   ]
  },
  {
   "cell_type": "markdown",
   "id": "f67d89ab",
   "metadata": {},
   "source": [
    "<span style=\"background-color:orangered; color:orangered;\">- - - - - - - - - - - - - - - - - - - - - - - - - - - - - - - - - - - - - - - - - - - - - - - - - - - - - - - - - - - - - - - - - - - - - - - - - - - - - - - - - - - - - - - - -</span>"
   ]
  },
  {
   "cell_type": "markdown",
   "id": "73342a9a",
   "metadata": {},
   "source": [
    "## Data Manipulation\n",
    "Before you begin answering any questions, combine the two datasets together to create a third dataframe called df. You can use this third dataframe to compare the two call centers to company-wide trends.\n",
    "* Add additional code blocks as needed to show how you came to your conclusions. Add comments in your code blocks to help others understand your thinking. Record your answer by double clicking the below cell."
   ]
  },
  {
   "cell_type": "code",
   "execution_count": 29,
   "id": "e9705c34",
   "metadata": {},
   "outputs": [],
   "source": [
    " # Create dataframe for the entire company named df \n",
    "df = pd.concat([north_df, south_df], ignore_index=True, sort=False)\n",
    "\n",
    "# FutureWarning: The frame.append method is deprecated and will be removed from pandas in a future version. \n",
    "# Use pandas.concat instead.\n",
    "\n",
    "# df = north.append(south)\n",
    "\n"
   ]
  },
  {
   "cell_type": "markdown",
   "id": "7e87dfd1",
   "metadata": {},
   "source": [
    "#### Manipulation Question 1:  Group by Rep ID and sum the resulting structure. Sort by calls to determine which rep in each branch has the highest number of calls.\n",
    "\n",
    "##### Record your answer by double clicking here:\n",
    "Rep with the hightest number of calls and their total calls:\n",
    "- North Branch = Brent has 37 calls\n",
    "- South Branch = Eric has 35 calls\n"
   ]
  },
  {
   "cell_type": "code",
   "execution_count": 46,
   "id": "3953f09a",
   "metadata": {},
   "outputs": [
    {
     "name": "stderr",
     "output_type": "stream",
     "text": [
      "C:\\Users\\zinkr\\AppData\\Local\\Temp\\ipykernel_12032\\2618581559.py:4: FutureWarning: The default value of numeric_only in DataFrameGroupBy.sum is deprecated. In a future version, numeric_only will default to False. Either specify numeric_only or select only columns which should be valid for the function.\n",
      "  north_reps = north_df.groupby(\"Rep ID\").sum()\n"
     ]
    },
    {
     "data": {
      "text/html": [
       "<div>\n",
       "<style scoped>\n",
       "    .dataframe tbody tr th:only-of-type {\n",
       "        vertical-align: middle;\n",
       "    }\n",
       "\n",
       "    .dataframe tbody tr th {\n",
       "        vertical-align: top;\n",
       "    }\n",
       "\n",
       "    .dataframe thead th {\n",
       "        text-align: right;\n",
       "    }\n",
       "</style>\n",
       "<table border=\"1\" class=\"dataframe\">\n",
       "  <thead>\n",
       "    <tr style=\"text-align: right;\">\n",
       "      <th></th>\n",
       "      <th>Lost Call</th>\n",
       "      <th>Abandoned</th>\n",
       "      <th>Busy Minutes</th>\n",
       "      <th>Not Ready Minutes</th>\n",
       "      <th>Incoming Wait Time</th>\n",
       "      <th>During Call Wait Time</th>\n",
       "      <th>Calls</th>\n",
       "    </tr>\n",
       "    <tr>\n",
       "      <th>Rep ID</th>\n",
       "      <th></th>\n",
       "      <th></th>\n",
       "      <th></th>\n",
       "      <th></th>\n",
       "      <th></th>\n",
       "      <th></th>\n",
       "      <th></th>\n",
       "    </tr>\n",
       "  </thead>\n",
       "  <tbody>\n",
       "    <tr>\n",
       "      <th>Brent</th>\n",
       "      <td>0</td>\n",
       "      <td>1</td>\n",
       "      <td>362</td>\n",
       "      <td>71</td>\n",
       "      <td>17.0</td>\n",
       "      <td>117</td>\n",
       "      <td>37</td>\n",
       "    </tr>\n",
       "    <tr>\n",
       "      <th>Lilly</th>\n",
       "      <td>0</td>\n",
       "      <td>2</td>\n",
       "      <td>307</td>\n",
       "      <td>59</td>\n",
       "      <td>37.0</td>\n",
       "      <td>88</td>\n",
       "      <td>30</td>\n",
       "    </tr>\n",
       "    <tr>\n",
       "      <th>Duke</th>\n",
       "      <td>2</td>\n",
       "      <td>0</td>\n",
       "      <td>292</td>\n",
       "      <td>56</td>\n",
       "      <td>39.0</td>\n",
       "      <td>85</td>\n",
       "      <td>29</td>\n",
       "    </tr>\n",
       "    <tr>\n",
       "      <th>Todd</th>\n",
       "      <td>1</td>\n",
       "      <td>0</td>\n",
       "      <td>296</td>\n",
       "      <td>58</td>\n",
       "      <td>21.0</td>\n",
       "      <td>97</td>\n",
       "      <td>29</td>\n",
       "    </tr>\n",
       "    <tr>\n",
       "      <th>Joe</th>\n",
       "      <td>0</td>\n",
       "      <td>0</td>\n",
       "      <td>256</td>\n",
       "      <td>49</td>\n",
       "      <td>36.0</td>\n",
       "      <td>81</td>\n",
       "      <td>26</td>\n",
       "    </tr>\n",
       "    <tr>\n",
       "      <th>Cam</th>\n",
       "      <td>1</td>\n",
       "      <td>0</td>\n",
       "      <td>233</td>\n",
       "      <td>46</td>\n",
       "      <td>32.0</td>\n",
       "      <td>66</td>\n",
       "      <td>24</td>\n",
       "    </tr>\n",
       "    <tr>\n",
       "      <th>Xander</th>\n",
       "      <td>1</td>\n",
       "      <td>0</td>\n",
       "      <td>244</td>\n",
       "      <td>44</td>\n",
       "      <td>20.0</td>\n",
       "      <td>68</td>\n",
       "      <td>24</td>\n",
       "    </tr>\n",
       "    <tr>\n",
       "      <th>Amanda</th>\n",
       "      <td>0</td>\n",
       "      <td>1</td>\n",
       "      <td>229</td>\n",
       "      <td>43</td>\n",
       "      <td>12.0</td>\n",
       "      <td>60</td>\n",
       "      <td>23</td>\n",
       "    </tr>\n",
       "    <tr>\n",
       "      <th>Andy</th>\n",
       "      <td>0</td>\n",
       "      <td>3</td>\n",
       "      <td>228</td>\n",
       "      <td>43</td>\n",
       "      <td>36.0</td>\n",
       "      <td>65</td>\n",
       "      <td>23</td>\n",
       "    </tr>\n",
       "  </tbody>\n",
       "</table>\n",
       "</div>"
      ],
      "text/plain": [
       "        Lost Call  Abandoned  Busy Minutes  Not Ready Minutes  \\\n",
       "Rep ID                                                          \n",
       "Brent           0          1           362                 71   \n",
       "Lilly           0          2           307                 59   \n",
       "Duke            2          0           292                 56   \n",
       "Todd            1          0           296                 58   \n",
       "Joe             0          0           256                 49   \n",
       "Cam             1          0           233                 46   \n",
       "Xander          1          0           244                 44   \n",
       "Amanda          0          1           229                 43   \n",
       "Andy            0          3           228                 43   \n",
       "\n",
       "        Incoming Wait Time  During Call Wait Time  Calls  \n",
       "Rep ID                                                    \n",
       "Brent                 17.0                    117     37  \n",
       "Lilly                 37.0                     88     30  \n",
       "Duke                  39.0                     85     29  \n",
       "Todd                  21.0                     97     29  \n",
       "Joe                   36.0                     81     26  \n",
       "Cam                   32.0                     66     24  \n",
       "Xander                20.0                     68     24  \n",
       "Amanda                12.0                     60     23  \n",
       "Andy                  36.0                     65     23  "
      ]
     },
     "execution_count": 46,
     "metadata": {},
     "output_type": "execute_result"
    }
   ],
   "source": [
    " # Code Used\n",
    "# Add Additional Cells as needed.\n",
    "#North Branch\n",
    "north_reps = north_df.groupby(\"Rep ID\").sum()\n",
    "north_reps.sort_values(\"Calls\", ascending=False)"
   ]
  },
  {
   "cell_type": "code",
   "execution_count": 47,
   "id": "48898029",
   "metadata": {},
   "outputs": [
    {
     "name": "stderr",
     "output_type": "stream",
     "text": [
      "C:\\Users\\zinkr\\AppData\\Local\\Temp\\ipykernel_12032\\3086169594.py:2: FutureWarning: The default value of numeric_only in DataFrameGroupBy.sum is deprecated. In a future version, numeric_only will default to False. Either specify numeric_only or select only columns which should be valid for the function.\n",
      "  south_reps = south_df.groupby(\"Rep ID\").sum()\n"
     ]
    },
    {
     "data": {
      "text/html": [
       "<div>\n",
       "<style scoped>\n",
       "    .dataframe tbody tr th:only-of-type {\n",
       "        vertical-align: middle;\n",
       "    }\n",
       "\n",
       "    .dataframe tbody tr th {\n",
       "        vertical-align: top;\n",
       "    }\n",
       "\n",
       "    .dataframe thead th {\n",
       "        text-align: right;\n",
       "    }\n",
       "</style>\n",
       "<table border=\"1\" class=\"dataframe\">\n",
       "  <thead>\n",
       "    <tr style=\"text-align: right;\">\n",
       "      <th></th>\n",
       "      <th>Lost Call</th>\n",
       "      <th>Abandoned</th>\n",
       "      <th>Busy Minutes</th>\n",
       "      <th>Not Ready Minutes</th>\n",
       "      <th>Incoming Wait Time</th>\n",
       "      <th>During Call Wait Time</th>\n",
       "      <th>Calls</th>\n",
       "    </tr>\n",
       "    <tr>\n",
       "      <th>Rep ID</th>\n",
       "      <th></th>\n",
       "      <th></th>\n",
       "      <th></th>\n",
       "      <th></th>\n",
       "      <th></th>\n",
       "      <th></th>\n",
       "      <th></th>\n",
       "    </tr>\n",
       "  </thead>\n",
       "  <tbody>\n",
       "    <tr>\n",
       "      <th>Eric</th>\n",
       "      <td>0</td>\n",
       "      <td>0</td>\n",
       "      <td>361</td>\n",
       "      <td>54</td>\n",
       "      <td>47.0</td>\n",
       "      <td>112</td>\n",
       "      <td>35</td>\n",
       "    </tr>\n",
       "    <tr>\n",
       "      <th>Randy</th>\n",
       "      <td>3</td>\n",
       "      <td>1</td>\n",
       "      <td>320</td>\n",
       "      <td>66</td>\n",
       "      <td>47.0</td>\n",
       "      <td>98</td>\n",
       "      <td>33</td>\n",
       "    </tr>\n",
       "    <tr>\n",
       "      <th>Sandy</th>\n",
       "      <td>1</td>\n",
       "      <td>0</td>\n",
       "      <td>325</td>\n",
       "      <td>60</td>\n",
       "      <td>34.0</td>\n",
       "      <td>100</td>\n",
       "      <td>32</td>\n",
       "    </tr>\n",
       "    <tr>\n",
       "      <th>Helga</th>\n",
       "      <td>0</td>\n",
       "      <td>2</td>\n",
       "      <td>292</td>\n",
       "      <td>58</td>\n",
       "      <td>36.0</td>\n",
       "      <td>95</td>\n",
       "      <td>31</td>\n",
       "    </tr>\n",
       "    <tr>\n",
       "      <th>George</th>\n",
       "      <td>0</td>\n",
       "      <td>0</td>\n",
       "      <td>298</td>\n",
       "      <td>53</td>\n",
       "      <td>41.0</td>\n",
       "      <td>87</td>\n",
       "      <td>29</td>\n",
       "    </tr>\n",
       "    <tr>\n",
       "      <th>Kate</th>\n",
       "      <td>0</td>\n",
       "      <td>0</td>\n",
       "      <td>291</td>\n",
       "      <td>61</td>\n",
       "      <td>37.0</td>\n",
       "      <td>83</td>\n",
       "      <td>29</td>\n",
       "    </tr>\n",
       "    <tr>\n",
       "      <th>Karl</th>\n",
       "      <td>1</td>\n",
       "      <td>0</td>\n",
       "      <td>287</td>\n",
       "      <td>61</td>\n",
       "      <td>26.0</td>\n",
       "      <td>85</td>\n",
       "      <td>28</td>\n",
       "    </tr>\n",
       "    <tr>\n",
       "      <th>Josh</th>\n",
       "      <td>3</td>\n",
       "      <td>0</td>\n",
       "      <td>260</td>\n",
       "      <td>50</td>\n",
       "      <td>31.0</td>\n",
       "      <td>83</td>\n",
       "      <td>26</td>\n",
       "    </tr>\n",
       "    <tr>\n",
       "      <th>Susan</th>\n",
       "      <td>2</td>\n",
       "      <td>0</td>\n",
       "      <td>267</td>\n",
       "      <td>53</td>\n",
       "      <td>35.0</td>\n",
       "      <td>88</td>\n",
       "      <td>26</td>\n",
       "    </tr>\n",
       "    <tr>\n",
       "      <th>Sharon</th>\n",
       "      <td>1</td>\n",
       "      <td>1</td>\n",
       "      <td>257</td>\n",
       "      <td>38</td>\n",
       "      <td>29.0</td>\n",
       "      <td>77</td>\n",
       "      <td>25</td>\n",
       "    </tr>\n",
       "    <tr>\n",
       "      <th>Alice</th>\n",
       "      <td>0</td>\n",
       "      <td>0</td>\n",
       "      <td>199</td>\n",
       "      <td>46</td>\n",
       "      <td>15.0</td>\n",
       "      <td>58</td>\n",
       "      <td>20</td>\n",
       "    </tr>\n",
       "  </tbody>\n",
       "</table>\n",
       "</div>"
      ],
      "text/plain": [
       "        Lost Call  Abandoned  Busy Minutes  Not Ready Minutes  \\\n",
       "Rep ID                                                          \n",
       "Eric            0          0           361                 54   \n",
       "Randy           3          1           320                 66   \n",
       "Sandy           1          0           325                 60   \n",
       "Helga           0          2           292                 58   \n",
       "George          0          0           298                 53   \n",
       "Kate            0          0           291                 61   \n",
       "Karl            1          0           287                 61   \n",
       "Josh            3          0           260                 50   \n",
       "Susan           2          0           267                 53   \n",
       "Sharon          1          1           257                 38   \n",
       "Alice           0          0           199                 46   \n",
       "\n",
       "        Incoming Wait Time  During Call Wait Time  Calls  \n",
       "Rep ID                                                    \n",
       "Eric                  47.0                    112     35  \n",
       "Randy                 47.0                     98     33  \n",
       "Sandy                 34.0                    100     32  \n",
       "Helga                 36.0                     95     31  \n",
       "George                41.0                     87     29  \n",
       "Kate                  37.0                     83     29  \n",
       "Karl                  26.0                     85     28  \n",
       "Josh                  31.0                     83     26  \n",
       "Susan                 35.0                     88     26  \n",
       "Sharon                29.0                     77     25  \n",
       "Alice                 15.0                     58     20  "
      ]
     },
     "execution_count": 47,
     "metadata": {},
     "output_type": "execute_result"
    }
   ],
   "source": [
    " #South Branch\n",
    "south_reps = south_df.groupby(\"Rep ID\").sum()\n",
    "south_reps.sort_values(\"Calls\", ascending=False)"
   ]
  },
  {
   "cell_type": "markdown",
   "id": "809293b9",
   "metadata": {},
   "source": [
    "#### Manipulation Question 2:  The average call abandonment rate is a KPI when it comes to determining call center efficiency. As you may recall, abandoned calls are calls where the customer hangs up due to long call times. What is the average call abandonment rate for each branch and the whole company? Do any of these fall out of the optimal range of 2-5%?\n",
    "##### Record your answer by double clicking here:\n",
    "Average Call Abandonment Rates (round to the nearest hundredth):\n",
    "- North Branch = 2.86%\n",
    "- South Branch = 1.27%\n",
    "- Company Wide = 1.97%\n",
    "- Do any of these fall out of the optimal range of 2-5%?"
   ]
  },
  {
   "cell_type": "code",
   "execution_count": 48,
   "id": "3dff7534",
   "metadata": {},
   "outputs": [
    {
     "name": "stdout",
     "output_type": "stream",
     "text": [
      "1.97\n"
     ]
    },
    {
     "data": {
      "text/plain": [
       "Branch\n",
       "North    2.86\n",
       "South    1.27\n",
       "dtype: float64"
      ]
     },
     "execution_count": 48,
     "metadata": {},
     "output_type": "execute_result"
    }
   ],
   "source": [
    "# Code Used\n",
    "# Add Additional Cells as needed.\n",
    "# Abandonment rate for entire company\n",
    "company_wide = ((df[\"Abandoned\"].sum()/df[\"Calls\"].sum())*100).round(2)\n",
    "print(company_wide)\n",
    "\n",
    "# Abandonment reate grouped by branch North and South\n",
    "((df.groupby(\"Branch\")[\"Abandoned\"].sum()/df.groupby(\"Branch\")[\"Incoming or Outgoing\"].count())*100).round(2)\n",
    "\n",
    "# could also calculate north and south branch with their original datasets\n",
    "#((north_df[\"Abandoned\"].sum()/north[\"Calls\"].sum())*100).round(2)\n",
    "#((south_df[\"Abandoned\"].sum()/south[\"Calls\"].sum())*100).round(2)"
   ]
  },
  {
   "cell_type": "markdown",
   "id": "598bb1bf",
   "metadata": {},
   "source": [
    "#### Manipulation Question 3:  Service level is another KPI when it comes to measuring call center efficiency. Service level is the percentage of calls answered within a specific number of seconds. In the case of your employer, their ideal time frame is 2 seconds. What is the percentage of calls answered within 2 seconds for each branch and the entire company?\n",
    "##### Record your answer by double clicking here:\n",
    "Percentage of calls answered within 2 seconds, include # of calls:\n",
    "- North Branch = 40.24% and 33 calls\n",
    "- South Branch = 38.10% and 48 calls\n",
    "- Company Wide = 38.94% and 81 calls"
   ]
  },
  {
   "cell_type": "code",
   "execution_count": 49,
   "id": "2fc8f669",
   "metadata": {},
   "outputs": [
    {
     "name": "stdout",
     "output_type": "stream",
     "text": [
      "33\n"
     ]
    },
    {
     "data": {
      "text/plain": [
       "40.24"
      ]
     },
     "execution_count": 49,
     "metadata": {},
     "output_type": "execute_result"
    }
   ],
   "source": [
    " # Code Used\n",
    "# Add Additional Cells as needed.\n",
    "#North Branch\n",
    "north_call_answered_fast = (north_df[\"Incoming Wait Time\"] <= 2.0).sum()\n",
    "print(north_call_answered_fast)\n",
    "total_north_incoming_calls = (north_df[\"Incoming or Outgoing\"] == \"Incoming\").sum()\n",
    "(north_call_answered_fast/total_north_incoming_calls*100).round(2)"
   ]
  },
  {
   "cell_type": "code",
   "execution_count": 50,
   "id": "4bc2617c-3946-413b-aa3c-6a0c5e6baec6",
   "metadata": {},
   "outputs": [
    {
     "name": "stdout",
     "output_type": "stream",
     "text": [
      "48\n"
     ]
    },
    {
     "data": {
      "text/plain": [
       "38.1"
      ]
     },
     "execution_count": 50,
     "metadata": {},
     "output_type": "execute_result"
    }
   ],
   "source": [
    " #South Branch\n",
    "south_call_answered_fast = (south_df[\"Incoming Wait Time\"] <= 2.0).sum()\n",
    "print(south_call_answered_fast)\n",
    "total_south_incoming_calls = (south_df[\"Incoming or Outgoing\"] == \"Incoming\").sum()\n",
    "(south_call_answered_fast/total_south_incoming_calls*100).round(2)"
   ]
  },
  {
   "cell_type": "code",
   "execution_count": 51,
   "id": "ad1bdb6f-3e2d-4523-9660-42e06fcaea79",
   "metadata": {},
   "outputs": [
    {
     "name": "stdout",
     "output_type": "stream",
     "text": [
      "81\n"
     ]
    },
    {
     "data": {
      "text/plain": [
       "38.94"
      ]
     },
     "execution_count": 51,
     "metadata": {},
     "output_type": "execute_result"
    }
   ],
   "source": [
    " #Company Wide\n",
    "df_call_answered_fast = (df[\"Incoming Wait Time\"] <= 2.0).sum()\n",
    "print(df_call_answered_fast)\n",
    "total_df_incoming_calls = (df[\"Incoming or Outgoing\"] == \"Incoming\").sum()\n",
    "(df_call_answered_fast/total_df_incoming_calls*100).round(2)"
   ]
  },
  {
   "cell_type": "markdown",
   "id": "7e19e705",
   "metadata": {},
   "source": [
    "#### Manipulation Question 4: For each branch and the entire company, what is the average speed of answer?\n",
    "##### Record your answer by double clicking here:\n",
    "Average speed of answer (rounded to nearest hundredth):\n",
    "- North Branch in seconds = 3.05\n",
    "- South Branch in seconds = 3.00\n",
    "- Company Wide in seconds = 3.02\n"
   ]
  },
  {
   "cell_type": "code",
   "execution_count": 52,
   "id": "72a653ed",
   "metadata": {},
   "outputs": [
    {
     "name": "stdout",
     "output_type": "stream",
     "text": [
      "3.05\n"
     ]
    }
   ],
   "source": [
    " # Code Used\n",
    "# North Branch\n",
    "df3 = north_df[\"Incoming Wait Time\"].sum()\n",
    "df4 = (north_df[\"Incoming or Outgoing\"] == \"Incoming\").sum()\n",
    "print((df3/df4).round(2))"
   ]
  },
  {
   "cell_type": "code",
   "execution_count": 53,
   "id": "8c93c4c2-565f-4611-a08b-6143f515ea67",
   "metadata": {},
   "outputs": [
    {
     "name": "stdout",
     "output_type": "stream",
     "text": [
      "3.0\n"
     ]
    }
   ],
   "source": [
    " # South Branch\n",
    "df5 = south_df[\"Incoming Wait Time\"].sum()\n",
    "df6 = (south_df[\"Incoming or Outgoing\"] == \"Incoming\").sum()\n",
    "print((df5/df6).round(2))"
   ]
  },
  {
   "cell_type": "code",
   "execution_count": 54,
   "id": "fee0ec36-48fc-4673-912b-d7b08f3a3102",
   "metadata": {},
   "outputs": [
    {
     "name": "stdout",
     "output_type": "stream",
     "text": [
      "3.02\n"
     ]
    }
   ],
   "source": [
    " # Company Wide \n",
    "\n",
    "df1 = df[\"Incoming Wait Time\"].sum()\n",
    "df2 = (df[\"Incoming or Outgoing\"] == \"Incoming\").sum()\n",
    "print((df1/df2).round(2))\n",
    "\n",
    "# Could also use .describe() and look at the mean for \"Incoming Wait Time\""
   ]
  },
  {
   "cell_type": "markdown",
   "id": "ba3ca2cd",
   "metadata": {},
   "source": [
    "<span style=\"background-color:orangered; color:orangered;\">- - - - - - - - - - - - - - - - - - - - - - - - - - - - - - - - - - - - - - - - - - - - - - - - - - - - - - - - - - - - - - - - - - - - - - - - - - - - - - - - - - - - - - - - -</span>"
   ]
  },
  {
   "cell_type": "markdown",
   "id": "d5f50a40",
   "metadata": {},
   "source": [
    "## Visualization\n",
    "\n",
    "Create a visualization for each of the following questions. Some of the code to handle aggregating and storing data may be written for you. For each visualization, you choose the chart style that you feel suits the situation best. Make note of the chart style you chose and why. \n",
    "\n",
    "*NOTE Some questions you may decide to use more than one chart and or chart style."
   ]
  },
  {
   "cell_type": "markdown",
   "id": "66ccf83c",
   "metadata": {},
   "source": [
    "#### Visualization 1:  What is the average abandonment rate per queue?\n",
    "##### Record your answer by double clicking here:\n",
    "\n",
    "> Chart style you chose and why: Students need to include why they choose the chart style they did. Example below: Bar Chart choosen for easy visual comparision of the 4 queues."
   ]
  },
  {
   "cell_type": "code",
   "execution_count": 55,
   "id": "c971d779",
   "metadata": {},
   "outputs": [
    {
     "name": "stderr",
     "output_type": "stream",
     "text": [
      "C:\\Users\\zinkr\\AppData\\Local\\Temp\\ipykernel_12032\\3179193316.py:9: FutureWarning: The default value of numeric_only in DataFrameGroupBy.sum is deprecated. In a future version, numeric_only will default to False. Either specify numeric_only or select only columns which should be valid for the function.\n",
      "  queue_dict = df.groupby(\"Queue\").agg(\"sum\")\n"
     ]
    },
    {
     "data": {
      "image/png": "[encoded data removed]",
      "text/plain": [
       "<Figure size 640x480 with 1 Axes>"
      ]
     },
     "metadata": {},
     "output_type": "display_data"
    },
    {
     "name": "stdout",
     "output_type": "stream",
     "text": [
      "       Lost Call  Abandoned  Busy Minutes  Not Ready Minutes  \\\n",
      "Queue                                                          \n",
      "A              1          4           946                181   \n",
      "B              4          3          1501                288   \n",
      "C              4          1          1409                251   \n",
      "D              7          3          1748                349   \n",
      "\n",
      "       Incoming Wait Time  During Call Wait Time  Calls  \n",
      "Queue                                                    \n",
      "A                   116.0                    272     96  \n",
      "B                   134.0                    455    149  \n",
      "C                   160.0                    435    138  \n",
      "D                   218.0                    531    176  \n"
     ]
    }
   ],
   "source": [
    "# Create visualization 1 here\n",
    "# Import any additional libraries needed with alias\n",
    "\n",
    "\n",
    "\n",
    "# The dictionary abandonment_rates has the data you need.\n",
    "abandonment_rates = {}\n",
    "queues = [\"A\", \"B\", \"C\", \"D\"]\n",
    "queue_dict = df.groupby(\"Queue\").agg(\"sum\")\n",
    "for i in range(4):\n",
    "    abandonment_rates[queues[i]] = queue_dict[\"Abandoned\"][i] / queue_dict[\"Calls\"][i] \n",
    "\n",
    "#Your Code Here:\n",
    "plt.bar(range(len(abandonment_rates)), list(abandonment_rates.values()), align='center', color= '#56548d')\n",
    "plt.xticks(range(len(abandonment_rates)), list(abandonment_rates.keys()))\n",
    "plt.title('Abandonment Rates per Queue',color = 'black')\n",
    "plt.show()\n",
    "print(queue_dict)\n",
    "\n"
   ]
  },
  {
   "cell_type": "markdown",
   "id": "4a9fc77f",
   "metadata": {},
   "source": [
    "#### Visualization 2: What is the service level percentage and average speed of answer for each rep in the North Branch?\n",
    "##### Record your answer by double clicking here:\n",
    "\n",
    "> Chart style you chose and why: Students need to include why they choose the chart style they did. Example below: Bar graph - Incoming wait time and service level ploted on the same graph to show how the two impact each other.  Service level seems to increase when wait time decreases per rep."
   ]
  },
  {
   "cell_type": "code",
   "execution_count": 60,
   "id": "61f65a7f",
   "metadata": {},
   "outputs": [
    {
     "data": {
      "image/png": "[encoded data removed]",
      "text/plain": [
       "<Figure size 1200x800 with 2 Axes>"
      ]
     },
     "metadata": {},
     "output_type": "display_data"
    }
   ],
   "source": [
    "# Create visualization 2 here\n",
    "# north_plt contains the data you need for the average speed of answer of each rep\n",
    "\n",
    "north_plt = north_df.groupby(\"Rep ID\")[\"Incoming Wait Time\"].mean().to_frame().reset_index()\n",
    "\n",
    "# Finding each Rep's Personal Service Level Percentage.  Basically, Calls within 2 secs / total calls\n",
    "\n",
    "# Table 1: Total Incoming calls less than 2 seconds grouped by Rep\n",
    "quick_calls = north_df[north_df[\"Incoming Wait Time\"] <= 2.0]\n",
    "quick_reps = quick_calls[[\"Rep ID\", \"Calls\"]]\n",
    "quick_stats = quick_reps.groupby([\"Rep ID\"]).sum()  # Final Table\n",
    "\n",
    "\n",
    "# Table 2: Total Incoming Calls Only grouped by Rep\n",
    "total_calls_in = north_df[north_df[\"Incoming or Outgoing\"] == \"Incoming\"]\n",
    "rep_calls = total_calls_in[[\"Rep ID\", \"Calls\"]]     \n",
    "total_stats = rep_calls.groupby([\"Rep ID\"]).sum() # Final Table  \n",
    "\n",
    "#  Table 3: Service Level Percentage created via merge\n",
    "service_level = pd.merge(quick_stats, total_stats, on=\"Rep ID\")\n",
    "\n",
    "# Create Percentage Column in Table 3\n",
    "service_level[\"Service Level %\"] = service_level[\"Calls_x\"]/service_level[\"Calls_y\"] * 100\n",
    "\n",
    "#Your Code Here:\n",
    "\n",
    "# Create matplotlib figure\n",
    "fig = plt.figure(figsize=(12, 8))\n",
    "# Create matplotlib axes\n",
    "ax = fig.add_subplot(111) \n",
    "# Create second x axes on same fig.\n",
    "ax2 = ax.twinx() \n",
    "\n",
    "# Set Width of bars\n",
    "width = 0.2\n",
    "\n",
    "north_plt.plot(kind='bar', color='blue', ax=ax, width=width, position=1)\n",
    "service_level[\"Service Level %\"].plot(kind='bar', color='orange', ax=ax2, width=width, position=0)\n",
    "\n",
    "ax.set_ylabel('Incoming Wait Time',color = 'black', fontsize = 16, fontweight = 'bold')\n",
    "ax2.set_ylabel('Service Level %',color = 'black', fontsize = 16, fontweight = 'bold')\n",
    "\n",
    "plt.title('Incoming Wait Times and Service Level %', color = 'black', fontsize = 20, fontweight = 'bold')\n",
    "\n",
    "plt.show()\n",
    "\n",
    "#Grouped bar chart shows each reps Service Level % and Incoming Wait time."
   ]
  },
  {
   "cell_type": "markdown",
   "id": "f965e41a",
   "metadata": {},
   "source": [
    "#### Visualization 3: For each type of call purpose, how many calls are outgoing vs. incoming?\n",
    "##### Record your answer by double clicking here:\n",
    "\n",
    "> Chart style you chose and why: Students need to include why they choose the chart style they did. Example below: Bar chart to easily visualize how many calls are outgoing vs. incoming"
   ]
  },
  {
   "cell_type": "code",
   "execution_count": 61,
   "id": "44096730",
   "metadata": {},
   "outputs": [
    {
     "name": "stdout",
     "output_type": "stream",
     "text": [
      "Call Purpose     Incoming or Outgoing\n",
      "Complaint        Incoming                 51\n",
      "Product Support  Outgoing                228\n",
      "                 Incoming                 82\n",
      "Sales Support    Outgoing                123\n",
      "                 Incoming                 75\n",
      "Name: Incoming or Outgoing, dtype: int64\n"
     ]
    },
    {
     "data": {
      "image/png": "[encoded data removed]",
      "text/plain": [
       "<Figure size 640x480 with 1 Axes>"
      ]
     },
     "metadata": {},
     "output_type": "display_data"
    }
   ],
   "source": [
    "# Create visualization 3 here:\n",
    "# The three dictionaries, complaints, sales_support, and product_support, have the information you need\n",
    "\n",
    "purpose_group = df.groupby(\"Call Purpose\")\n",
    "call_purpose = [\"Complaint\", \"Product Support\", \"Sales Support\"]\n",
    "purpose_counts = purpose_group[\"Incoming or Outgoing\"].value_counts()\n",
    "print(purpose_counts)\n",
    "\n",
    "complaints = purpose_counts[\"Complaint\"].to_dict()\n",
    "sales_support = purpose_counts[\"Sales Support\"].to_dict()\n",
    "product_support = purpose_counts[\"Product Support\"].to_dict()\n",
    "\n",
    "#Your Code Here:\n",
    "data={\n",
    "    \"Complaints\": [51, 0],\n",
    "    \"Sales Support\": [75, 123],\n",
    "    \"Product Support\": [82, 228]\n",
    "}\n",
    "\n",
    "\n",
    "viz3 = pd.DataFrame(data).T\n",
    "viz3.plot(kind='bar', color=['blue', 'orange'])\n",
    "plt.xlabel('Call Purpose', color = 'black', fontsize = 12, fontweight = 'bold')\n",
    "plt.ylabel('Incoming and Outgoing Calls', color = 'black', fontsize = 12, fontweight = 'bold')\n",
    "plt.title('Incoming and Outgoing Calls by Call Purpose', color = 'black', fontsize = 16, fontweight = 'bold')\n",
    "plt.legend(['Incoming', 'Outgoing'], loc = 'upper left', prop={'size': 12}, fontsize = 12)\n",
    "plt.xticks(color = 'black',fontsize=10, fontweight='bold')\n",
    "plt.yticks(color = 'black',fontsize=10, fontweight='bold')\n",
    "plt.show()\n"
   ]
  },
  {
   "cell_type": "markdown",
   "id": "de9f32bc",
   "metadata": {},
   "source": [
    "<span style=\"background-color:orangered; color:orangered;\">- - - - - - - - - - - - - - - - - - - - - - - - - - - - - - - - - - - - - - - - - - - - - - - - - - - - - - - - - - - - - - - - - - - - - - - - - - - - - - - - - - - - - - - - -</span>"
   ]
  },
  {
   "cell_type": "markdown",
   "id": "ea7ed568",
   "metadata": {},
   "source": [
    "## Summarize Your Work\n",
    "\n",
    "With what you know now about the two call centers and the entire company, answer the following questions. Note that while this is subjective, you should include relevant data to back up your opinion.\n"
   ]
  },
  {
   "cell_type": "markdown",
   "id": "d2fc3d13",
   "metadata": {},
   "source": [
    "#### Summary Question 1:  Using KPIs such as average abandonment rate, service level and average speed of answer, in your opinion, which one of the two branches is operating more efficiently? Why?\n",
    "\n",
    "##### Record your answer by double clicking here:\n",
    "> Your Answer: \n",
    "\n"
   ]
  },
  {
   "cell_type": "markdown",
   "id": "489f28d6",
   "metadata": {},
   "source": [
    "#### Summary Question 2: Based on the number of reps in each branch and how quickly the reps are working, in your opinion, which branch would benefit from the extra help?\n",
    "\n",
    "##### Record your answer by double clicking here:\n",
    "> Your Answer: \n"
   ]
  },
  {
   "cell_type": "markdown",
   "id": "0b10a8c3",
   "metadata": {},
   "source": [
    "#### Summary Question 3: Now that you have explored the datasets, is there any data or information that you wish you had in this analysis?\n",
    "\n",
    "##### Record your answer by double clicking here:\n",
    "> Your Answer: \n"
   ]
  },
  {
   "cell_type": "markdown",
   "id": "49f26dfa",
   "metadata": {},
   "source": [
    "<span style=\"background-color:orangered; color:orangered;\">- - - - - - - - - - - - - - - - - - - - - - - - - - - - - - - - - - - - - - - - - - - - - - - - - - - - - - - - - - - - - - - - - - - - - - - - - - - - - - - - - - - - - - - - -</span>"
   ]
  },
  {
   "cell_type": "markdown",
   "id": "ce16f43d",
   "metadata": {},
   "source": [
    "## Bonus Mission\n",
    "Create a visualization that answers this question: For each call purpose, how many calls (incoming and outgoing) take place in each time block?\n",
    "##### Record your answer by double clicking here:\n",
    "\n",
    "> Chart style you chose and why: "
   ]
  },
  {
   "cell_type": "code",
   "execution_count": 17,
   "id": "71b04f32",
   "metadata": {},
   "outputs": [
    {
     "ename": "KeyError",
     "evalue": "\"['Calls'] not in index\"",
     "output_type": "error",
     "traceback": [
      "\u001b[1;31m---------------------------------------------------------------------------\u001b[0m",
      "\u001b[1;31mKeyError\u001b[0m                                  Traceback (most recent call last)",
      "Cell \u001b[1;32mIn[17], line 2\u001b[0m\n\u001b[0;32m      1\u001b[0m \u001b[38;5;66;03m# Create your Bonus Mission visualization here!\u001b[39;00m\n\u001b[1;32m----> 2\u001b[0m call_times \u001b[38;5;241m=\u001b[39m \u001b[43mdf\u001b[49m\u001b[43m[\u001b[49m\u001b[43m[\u001b[49m\u001b[38;5;124;43m\"\u001b[39;49m\u001b[38;5;124;43mTime Block\u001b[39;49m\u001b[38;5;124;43m\"\u001b[39;49m\u001b[43m,\u001b[49m\u001b[43m \u001b[49m\u001b[38;5;124;43m\"\u001b[39;49m\u001b[38;5;124;43mCall Purpose\u001b[39;49m\u001b[38;5;124;43m\"\u001b[39;49m\u001b[43m,\u001b[49m\u001b[43m \u001b[49m\u001b[38;5;124;43m\"\u001b[39;49m\u001b[38;5;124;43mIncoming or Outgoing\u001b[39;49m\u001b[38;5;124;43m\"\u001b[39;49m\u001b[43m,\u001b[49m\u001b[43m \u001b[49m\u001b[38;5;124;43m\"\u001b[39;49m\u001b[38;5;124;43mCalls\u001b[39;49m\u001b[38;5;124;43m\"\u001b[39;49m\u001b[43m]\u001b[49m\u001b[43m]\u001b[49m\n",
      "File \u001b[1;32m~\\anaconda3\\lib\\site-packages\\pandas\\core\\frame.py:3813\u001b[0m, in \u001b[0;36mDataFrame.__getitem__\u001b[1;34m(self, key)\u001b[0m\n\u001b[0;32m   3811\u001b[0m     \u001b[38;5;28;01mif\u001b[39;00m is_iterator(key):\n\u001b[0;32m   3812\u001b[0m         key \u001b[38;5;241m=\u001b[39m \u001b[38;5;28mlist\u001b[39m(key)\n\u001b[1;32m-> 3813\u001b[0m     indexer \u001b[38;5;241m=\u001b[39m \u001b[38;5;28;43mself\u001b[39;49m\u001b[38;5;241;43m.\u001b[39;49m\u001b[43mcolumns\u001b[49m\u001b[38;5;241;43m.\u001b[39;49m\u001b[43m_get_indexer_strict\u001b[49m\u001b[43m(\u001b[49m\u001b[43mkey\u001b[49m\u001b[43m,\u001b[49m\u001b[43m \u001b[49m\u001b[38;5;124;43m\"\u001b[39;49m\u001b[38;5;124;43mcolumns\u001b[39;49m\u001b[38;5;124;43m\"\u001b[39;49m\u001b[43m)\u001b[49m[\u001b[38;5;241m1\u001b[39m]\n\u001b[0;32m   3815\u001b[0m \u001b[38;5;66;03m# take() does not accept boolean indexers\u001b[39;00m\n\u001b[0;32m   3816\u001b[0m \u001b[38;5;28;01mif\u001b[39;00m \u001b[38;5;28mgetattr\u001b[39m(indexer, \u001b[38;5;124m\"\u001b[39m\u001b[38;5;124mdtype\u001b[39m\u001b[38;5;124m\"\u001b[39m, \u001b[38;5;28;01mNone\u001b[39;00m) \u001b[38;5;241m==\u001b[39m \u001b[38;5;28mbool\u001b[39m:\n",
      "File \u001b[1;32m~\\anaconda3\\lib\\site-packages\\pandas\\core\\indexes\\base.py:6070\u001b[0m, in \u001b[0;36mIndex._get_indexer_strict\u001b[1;34m(self, key, axis_name)\u001b[0m\n\u001b[0;32m   6067\u001b[0m \u001b[38;5;28;01melse\u001b[39;00m:\n\u001b[0;32m   6068\u001b[0m     keyarr, indexer, new_indexer \u001b[38;5;241m=\u001b[39m \u001b[38;5;28mself\u001b[39m\u001b[38;5;241m.\u001b[39m_reindex_non_unique(keyarr)\n\u001b[1;32m-> 6070\u001b[0m \u001b[38;5;28;43mself\u001b[39;49m\u001b[38;5;241;43m.\u001b[39;49m\u001b[43m_raise_if_missing\u001b[49m\u001b[43m(\u001b[49m\u001b[43mkeyarr\u001b[49m\u001b[43m,\u001b[49m\u001b[43m \u001b[49m\u001b[43mindexer\u001b[49m\u001b[43m,\u001b[49m\u001b[43m \u001b[49m\u001b[43maxis_name\u001b[49m\u001b[43m)\u001b[49m\n\u001b[0;32m   6072\u001b[0m keyarr \u001b[38;5;241m=\u001b[39m \u001b[38;5;28mself\u001b[39m\u001b[38;5;241m.\u001b[39mtake(indexer)\n\u001b[0;32m   6073\u001b[0m \u001b[38;5;28;01mif\u001b[39;00m \u001b[38;5;28misinstance\u001b[39m(key, Index):\n\u001b[0;32m   6074\u001b[0m     \u001b[38;5;66;03m# GH 42790 - Preserve name from an Index\u001b[39;00m\n",
      "File \u001b[1;32m~\\anaconda3\\lib\\site-packages\\pandas\\core\\indexes\\base.py:6133\u001b[0m, in \u001b[0;36mIndex._raise_if_missing\u001b[1;34m(self, key, indexer, axis_name)\u001b[0m\n\u001b[0;32m   6130\u001b[0m     \u001b[38;5;28;01mraise\u001b[39;00m \u001b[38;5;167;01mKeyError\u001b[39;00m(\u001b[38;5;124mf\u001b[39m\u001b[38;5;124m\"\u001b[39m\u001b[38;5;124mNone of [\u001b[39m\u001b[38;5;132;01m{\u001b[39;00mkey\u001b[38;5;132;01m}\u001b[39;00m\u001b[38;5;124m] are in the [\u001b[39m\u001b[38;5;132;01m{\u001b[39;00maxis_name\u001b[38;5;132;01m}\u001b[39;00m\u001b[38;5;124m]\u001b[39m\u001b[38;5;124m\"\u001b[39m)\n\u001b[0;32m   6132\u001b[0m not_found \u001b[38;5;241m=\u001b[39m \u001b[38;5;28mlist\u001b[39m(ensure_index(key)[missing_mask\u001b[38;5;241m.\u001b[39mnonzero()[\u001b[38;5;241m0\u001b[39m]]\u001b[38;5;241m.\u001b[39munique())\n\u001b[1;32m-> 6133\u001b[0m \u001b[38;5;28;01mraise\u001b[39;00m \u001b[38;5;167;01mKeyError\u001b[39;00m(\u001b[38;5;124mf\u001b[39m\u001b[38;5;124m\"\u001b[39m\u001b[38;5;132;01m{\u001b[39;00mnot_found\u001b[38;5;132;01m}\u001b[39;00m\u001b[38;5;124m not in index\u001b[39m\u001b[38;5;124m\"\u001b[39m)\n",
      "\u001b[1;31mKeyError\u001b[0m: \"['Calls'] not in index\""
     ]
    }
   ],
   "source": [
    "# Create your Bonus Mission visualization here!\n",
    "call_times = df[[\"Time Block\", \"Call Purpose\", \"Incoming or Outgoing\", \"Calls\"]]\n",
    "\n",
    "# Use groupby to plot based on time blocks:\n",
    "\n",
    "# Use groupby and get_group to select which call purpose to plot:"
   ]
  },
  {
   "cell_type": "code",
   "execution_count": null,
   "id": "0084b92b-5f40-4922-a5ae-da4ecf49d72b",
   "metadata": {},
   "outputs": [],
   "source": []
  }
 ],
 "metadata": {
  "kernelspec": {
   "display_name": "Python 3 (ipykernel)",
   "language": "python",
   "name": "python3"
  },
  "language_info": {
   "codemirror_mode": {
    "name": "ipython",
    "version": 3
   },
   "file_extension": ".py",
   "mimetype": "text/x-python",
   "name": "python",
   "nbconvert_exporter": "python",
   "pygments_lexer": "ipython3",
   "version": "3.10.9"
  }
 },
 "nbformat": 4,
 "nbformat_minor": 5
}
